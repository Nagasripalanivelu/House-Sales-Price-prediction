{
 "cells": [
  {
   "cell_type": "code",
   "execution_count": 19,
   "id": "4a74ed6b-2ef0-4e7d-aeda-b23a5b245b64",
   "metadata": {},
   "outputs": [
    {
     "name": "stdout",
     "output_type": "stream",
     "text": [
      "[[1], [1], [1], [5], [1], [1], [3], [3], [1], [1], [5], [4], [3], [1], [1], [1], [1], [1], [1], [1]]\n"
     ]
    }
   ],
   "source": [
    "def pascal_triangle(rows):\n",
    "    n = rows\n",
    "    pascal = []\n",
    "    pas = []\n",
    "    for i in range(n):\n",
    "        pascal.append([1])\n",
    "        if i % 2 != 0:\n",
    "            for j in range(i):\n",
    "                pascal.append([n-j])\n",
    "        else:\n",
    "            for j in range(i):\n",
    "                pascal.append([n-i])\n",
    "        pas.append([pascal])\n",
    "        pascal.append([1])\n",
    "    return pascal\n",
    "\n",
    "p = pascal_triangle(5)\n",
    "print(p)\n",
    "            "
   ]
  },
  {
   "cell_type": "code",
   "execution_count": 20,
   "id": "4ef3db7e-d659-4479-b977-edff446e82c0",
   "metadata": {},
   "outputs": [
    {
     "name": "stdout",
     "output_type": "stream",
     "text": [
      "[[1], [1, 1], [1, 2, 1], [1, 3, 3, 1], [1, 4, 6, 4, 1], [1, 5, 10, 10, 5, 1]]\n"
     ]
    }
   ],
   "source": [
    "op = [[1], [1, 1]]\n",
    "n = 5\n",
    "for i in range(2, n+1):\n",
    "    pl = op[-1]\n",
    "    val = [1]\n",
    "    for j in range(len(pl)-1):\n",
    "        val.append(pl[j] + pl[j+1])\n",
    "    val.append(1)\n",
    "    op.append(val)\n",
    "print(op)"
   ]
  },
  {
   "cell_type": "code",
   "execution_count": 21,
   "id": "d619095c-93ef-428b-91af-68df83f80582",
   "metadata": {},
   "outputs": [
    {
     "name": "stdout",
     "output_type": "stream",
     "text": [
      "1\n",
      "8\n",
      "6\n",
      "2\n",
      "5\n",
      "4\n",
      "8\n",
      "3\n",
      "7\n"
     ]
    }
   ],
   "source": [
    "height = [1,8,6,2,5,4,8,3,7]\n",
    "val = {}\n",
    "for i in range(len(height)):\n",
    "    "
   ]
  },
  {
   "cell_type": "code",
   "execution_count": null,
   "id": "86388632-6916-487f-bb68-1ef46e3a3c98",
   "metadata": {},
   "outputs": [],
   "source": []
  }
 ],
 "metadata": {
  "kernelspec": {
   "display_name": "Python 3 (ipykernel)",
   "language": "python",
   "name": "python3"
  },
  "language_info": {
   "codemirror_mode": {
    "name": "ipython",
    "version": 3
   },
   "file_extension": ".py",
   "mimetype": "text/x-python",
   "name": "python",
   "nbconvert_exporter": "python",
   "pygments_lexer": "ipython3",
   "version": "3.12.0"
  }
 },
 "nbformat": 4,
 "nbformat_minor": 5
}
